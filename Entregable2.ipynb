{
 "cells": [
  {
   "cell_type": "markdown",
   "metadata": {},
   "source": [
    "# __Entregable__: Calibración de modelo de serie de tiempo para realizar predicción\n",
    "\n",
    "Este es el entregable 2 preparado para el módulo de Estadística (Bloque 2) para la concentración de IA Avanzada<br>"
   ]
  },
  {
   "cell_type": "markdown",
   "metadata": {},
   "source": [
    "Entregable: Calibración de modelo de serie de tiempo para realizar predicción\n",
    "\n",
    "Objetivo: Calibrar un modelo ARIMA-SARIMA para la serie del ÍNDICE GLOBAL DE ACTIVIDAD ECONÓMICA de México. Tienes que realizar el proceso de manejo de datos y calibración del modelo para obtener un pronóstico de la economía mexicana hasta el cierre del sexenio actual (SEP 2024).\n",
    "\n",
    "1. Realizar pruebas estadísticas de estacionariedad y decide el tipo de transformación de la variable\n",
    "2. Calibra un modelo ARIMA-SARIMA basado en pruebas y gráficos de autocorrelaciones. Explica claramente el proceso de calibración y la razón de cómo va modificando los parámetros.\n",
    "3. Interpreta los coeficientes y su significancia estadística del modelo calibrado.\n",
    "4. Realiza una predicción de la variable utilizando el modelo calibrado."
   ]
  },
  {
   "cell_type": "code",
   "execution_count": 1,
   "metadata": {},
   "outputs": [],
   "source": [
    "# Data management module\n",
    "import numpy as np\n",
    "import pandas as pd\n",
    "# Visualization modules\n",
    "import seaborn as sns\n",
    "import matplotlib.pyplot as plt\n",
    "# Statistic module\n",
    "import statsmodels.api as sm\n",
    "from statsmodels.tsa.stattools import adfuller\n",
    "from statsmodels.tsa.arima_model import ARIMA\n",
    "from statsmodels.graphics.tsaplots import plot_acf, plot_pacf\n",
    "# quit warnings\n",
    "import warnings\n",
    "warnings.filterwarnings(\"ignore\")"
   ]
  },
  {
   "cell_type": "code",
   "execution_count": 2,
   "metadata": {},
   "outputs": [
    {
     "data": {
      "text/html": [
       "<div>\n",
       "<style scoped>\n",
       "    .dataframe tbody tr th:only-of-type {\n",
       "        vertical-align: middle;\n",
       "    }\n",
       "\n",
       "    .dataframe tbody tr th {\n",
       "        vertical-align: top;\n",
       "    }\n",
       "\n",
       "    .dataframe thead th {\n",
       "        text-align: right;\n",
       "    }\n",
       "</style>\n",
       "<table border=\"1\" class=\"dataframe\">\n",
       "  <thead>\n",
       "    <tr style=\"text-align: right;\">\n",
       "      <th></th>\n",
       "      <th>Indicador</th>\n",
       "      <th>Nombre Indicador</th>\n",
       "      <th>Clave área geográfica</th>\n",
       "      <th>Entidad</th>\n",
       "      <th>Municipio</th>\n",
       "      <th>Periodo</th>\n",
       "      <th>Valor</th>\n",
       "      <th>Excepción</th>\n",
       "      <th>Unidad de medida</th>\n",
       "      <th>Frecuencia</th>\n",
       "      <th>Information Status</th>\n",
       "      <th>Referencias</th>\n",
       "    </tr>\n",
       "  </thead>\n",
       "  <tbody>\n",
       "    <tr>\n",
       "      <th>0</th>\n",
       "      <td>6207061409</td>\n",
       "      <td>IGAE. Índice de volumen físico base 2013=100. ...</td>\n",
       "      <td>700</td>\n",
       "      <td>Estados Unidos Mexicanos</td>\n",
       "      <td>Estados Unidos Mexicanos</td>\n",
       "      <td>2022/07</td>\n",
       "      <td>111.274552</td>\n",
       "      <td>NaN</td>\n",
       "      <td>Índice de volumen físico base 2013=100</td>\n",
       "      <td>Mensual</td>\n",
       "      <td>NaN</td>\n",
       "      <td>/a  /f1  /r1</td>\n",
       "    </tr>\n",
       "    <tr>\n",
       "      <th>1</th>\n",
       "      <td>6207061409</td>\n",
       "      <td>IGAE. Índice de volumen físico base 2013=100. ...</td>\n",
       "      <td>700</td>\n",
       "      <td>Estados Unidos Mexicanos</td>\n",
       "      <td>Estados Unidos Mexicanos</td>\n",
       "      <td>2022/06</td>\n",
       "      <td>112.797501</td>\n",
       "      <td>NaN</td>\n",
       "      <td>Índice de volumen físico base 2013=100</td>\n",
       "      <td>Mensual</td>\n",
       "      <td>NaN</td>\n",
       "      <td>/a  /f1  /r1</td>\n",
       "    </tr>\n",
       "    <tr>\n",
       "      <th>2</th>\n",
       "      <td>6207061409</td>\n",
       "      <td>IGAE. Índice de volumen físico base 2013=100. ...</td>\n",
       "      <td>700</td>\n",
       "      <td>Estados Unidos Mexicanos</td>\n",
       "      <td>Estados Unidos Mexicanos</td>\n",
       "      <td>2022/05</td>\n",
       "      <td>114.442424</td>\n",
       "      <td>NaN</td>\n",
       "      <td>Índice de volumen físico base 2013=100</td>\n",
       "      <td>Mensual</td>\n",
       "      <td>NaN</td>\n",
       "      <td>/a  /f1  /r1</td>\n",
       "    </tr>\n",
       "    <tr>\n",
       "      <th>3</th>\n",
       "      <td>6207061409</td>\n",
       "      <td>IGAE. Índice de volumen físico base 2013=100. ...</td>\n",
       "      <td>700</td>\n",
       "      <td>Estados Unidos Mexicanos</td>\n",
       "      <td>Estados Unidos Mexicanos</td>\n",
       "      <td>2022/04</td>\n",
       "      <td>109.529866</td>\n",
       "      <td>NaN</td>\n",
       "      <td>Índice de volumen físico base 2013=100</td>\n",
       "      <td>Mensual</td>\n",
       "      <td>NaN</td>\n",
       "      <td>/a  /f1  /r1</td>\n",
       "    </tr>\n",
       "    <tr>\n",
       "      <th>4</th>\n",
       "      <td>6207061409</td>\n",
       "      <td>IGAE. Índice de volumen físico base 2013=100. ...</td>\n",
       "      <td>700</td>\n",
       "      <td>Estados Unidos Mexicanos</td>\n",
       "      <td>Estados Unidos Mexicanos</td>\n",
       "      <td>2022/03</td>\n",
       "      <td>111.940152</td>\n",
       "      <td>NaN</td>\n",
       "      <td>Índice de volumen físico base 2013=100</td>\n",
       "      <td>Mensual</td>\n",
       "      <td>NaN</td>\n",
       "      <td>/a  /f1  /r1</td>\n",
       "    </tr>\n",
       "  </tbody>\n",
       "</table>\n",
       "</div>"
      ],
      "text/plain": [
       "    Indicador                                   Nombre Indicador  \\\n",
       "0  6207061409  IGAE. Índice de volumen físico base 2013=100. ...   \n",
       "1  6207061409  IGAE. Índice de volumen físico base 2013=100. ...   \n",
       "2  6207061409  IGAE. Índice de volumen físico base 2013=100. ...   \n",
       "3  6207061409  IGAE. Índice de volumen físico base 2013=100. ...   \n",
       "4  6207061409  IGAE. Índice de volumen físico base 2013=100. ...   \n",
       "\n",
       "   Clave área geográfica                   Entidad                 Municipio  \\\n",
       "0                    700  Estados Unidos Mexicanos  Estados Unidos Mexicanos   \n",
       "1                    700  Estados Unidos Mexicanos  Estados Unidos Mexicanos   \n",
       "2                    700  Estados Unidos Mexicanos  Estados Unidos Mexicanos   \n",
       "3                    700  Estados Unidos Mexicanos  Estados Unidos Mexicanos   \n",
       "4                    700  Estados Unidos Mexicanos  Estados Unidos Mexicanos   \n",
       "\n",
       "   Periodo       Valor  Excepción                        Unidad de medida  \\\n",
       "0  2022/07  111.274552        NaN  Índice de volumen físico base 2013=100   \n",
       "1  2022/06  112.797501        NaN  Índice de volumen físico base 2013=100   \n",
       "2  2022/05  114.442424        NaN  Índice de volumen físico base 2013=100   \n",
       "3  2022/04  109.529866        NaN  Índice de volumen físico base 2013=100   \n",
       "4  2022/03  111.940152        NaN  Índice de volumen físico base 2013=100   \n",
       "\n",
       "  Frecuencia  Information Status     Referencias  \n",
       "0    Mensual                 NaN  /a  /f1  /r1    \n",
       "1    Mensual                 NaN  /a  /f1  /r1    \n",
       "2    Mensual                 NaN  /a  /f1  /r1    \n",
       "3    Mensual                 NaN  /a  /f1  /r1    \n",
       "4    Mensual                 NaN  /a  /f1  /r1    "
      ]
     },
     "execution_count": 2,
     "metadata": {},
     "output_type": "execute_result"
    }
   ],
   "source": [
    "igae = pd.read_excel('igae.xls')\n",
    "igae.head()"
   ]
  },
  {
   "cell_type": "code",
   "execution_count": 3,
   "metadata": {},
   "outputs": [
    {
     "data": {
      "text/html": [
       "<div>\n",
       "<style scoped>\n",
       "    .dataframe tbody tr th:only-of-type {\n",
       "        vertical-align: middle;\n",
       "    }\n",
       "\n",
       "    .dataframe tbody tr th {\n",
       "        vertical-align: top;\n",
       "    }\n",
       "\n",
       "    .dataframe thead th {\n",
       "        text-align: right;\n",
       "    }\n",
       "</style>\n",
       "<table border=\"1\" class=\"dataframe\">\n",
       "  <thead>\n",
       "    <tr style=\"text-align: right;\">\n",
       "      <th></th>\n",
       "      <th>Periodo</th>\n",
       "      <th>Valor</th>\n",
       "    </tr>\n",
       "  </thead>\n",
       "  <tbody>\n",
       "    <tr>\n",
       "      <th>0</th>\n",
       "      <td>1993/01</td>\n",
       "      <td>60.407691</td>\n",
       "    </tr>\n",
       "    <tr>\n",
       "      <th>1</th>\n",
       "      <td>1993/02</td>\n",
       "      <td>61.022521</td>\n",
       "    </tr>\n",
       "    <tr>\n",
       "      <th>2</th>\n",
       "      <td>1993/03</td>\n",
       "      <td>63.943249</td>\n",
       "    </tr>\n",
       "    <tr>\n",
       "      <th>3</th>\n",
       "      <td>1993/04</td>\n",
       "      <td>61.865984</td>\n",
       "    </tr>\n",
       "    <tr>\n",
       "      <th>4</th>\n",
       "      <td>1993/05</td>\n",
       "      <td>63.612900</td>\n",
       "    </tr>\n",
       "  </tbody>\n",
       "</table>\n",
       "</div>"
      ],
      "text/plain": [
       "   Periodo      Valor\n",
       "0  1993/01  60.407691\n",
       "1  1993/02  61.022521\n",
       "2  1993/03  63.943249\n",
       "3  1993/04  61.865984\n",
       "4  1993/05  63.612900"
      ]
     },
     "execution_count": 3,
     "metadata": {},
     "output_type": "execute_result"
    }
   ],
   "source": [
    "igae = igae[['Periodo', 'Valor']]\n",
    "igae = igae.sort_values('Periodo')  # Ordenamos los valores por periodo\n",
    "igae = igae.reset_index(drop=True)  # Reseteamos nuestro índices\n",
    "igae.head()"
   ]
  },
  {
   "cell_type": "markdown",
   "metadata": {},
   "source": [
    "## Pruebas estadísticas de estacionariedad y elección del tipo de transformación de la variable"
   ]
  },
  {
   "cell_type": "markdown",
   "metadata": {},
   "source": [
    "GRAFICAMOS PARA VER EL COMPORTAMIENTO DEL ÍNDICE DE VOLUMEN FÍSICO BASE EN MÉXICO."
   ]
  },
  {
   "cell_type": "code",
   "execution_count": 4,
   "metadata": {},
   "outputs": [
    {
     "data": {
      "image/png": "[encoded data removed]",
      "text/plain": [
       "<Figure size 432x288 with 1 Axes>"
      ]
     },
     "metadata": {
      "needs_background": "light"
     },
     "output_type": "display_data"
    }
   ],
   "source": [
    "igae.plot();"
   ]
  },
  {
   "cell_type": "markdown",
   "metadata": {},
   "source": [
    "TRAS GRÁFICA LA INFORMACIÓN PODEMOS VER QUE LOS DATOS TIENE UNA TENDENCIA \"NO-SEASONALITY \", YA QUE TIENE UNA TENDENCIA DE CRECIMIENTO EN EL TIEMPO, ADEMÁS TENEMOS QUE COMPROBAR SI SE OBSERVA UN PATRÓN DE ESTACIONALIDAD."
   ]
  },
  {
   "cell_type": "markdown",
   "metadata": {},
   "source": [
    "----"
   ]
  },
  {
   "cell_type": "markdown",
   "metadata": {},
   "source": [
    "PARA ESTAR SEGUROS DE LO QUE MENCIONAMOS ANTERIORMENTE, VAMOS A REALIZAR UN TEST DE ESTACIONALIDAD."
   ]
  },
  {
   "cell_type": "markdown",
   "metadata": {},
   "source": [
    "DADO QUE PODEMOS VER UN PATRÓN DE ESTACIONALIDAD EN NUESTROS DATOS, REALIZAMOS LA DIFERENCIA ESTACIONAL DEL LOGARITMO DE LA SERIE, CON ESTO VAMOS A COMPROBAR SI VAMOS A TRATA LA SERIE DE VALORES DE MANERA ESTACIONAL. ADEMÁS GRÁFICAMOS EL COMPORTAMIENTO QUE TIENE EL CRECIMIENTO EN EL ÍNDICE DE VOLUMEN FÍSICO BASE EN MÉXICO."
   ]
  },
  {
   "cell_type": "code",
   "execution_count": 5,
   "metadata": {},
   "outputs": [
    {
     "data": {
      "image/png": "[encoded data removed]",
      "text/plain": [
       "<Figure size 432x288 with 1 Axes>"
      ]
     },
     "metadata": {
      "needs_background": "light"
     },
     "output_type": "display_data"
    }
   ],
   "source": [
    "ligae = np.log(igae['Valor']) - np.log(igae['Valor']).shift(12) \n",
    "ligae.plot();"
   ]
  },
  {
   "cell_type": "markdown",
   "metadata": {},
   "source": [
    "ES DIFÍCIL SABER SI LO QUE TENEMOS ES ESTACIONARIO O NO, PARECIERA QUE SI, PERO PARA ESTA SEGUROS PROCEDEREMOS A HACE LA PRUEBA DE DICKY-FULLER."
   ]
  },
  {
   "cell_type": "code",
   "execution_count": 6,
   "metadata": {},
   "outputs": [
    {
     "name": "stdout",
     "output_type": "stream",
     "text": [
      "Results of Dickey-Fuller Test:\n",
      "Test Statistic                  -3.767292\n",
      "p-value                          0.003260\n",
      "#Lags Used                      17.000000\n",
      "Number of Observations Used    325.000000\n",
      "Critical Value (1%)             -3.450632\n",
      "Critical Value (5%)             -2.870474\n",
      "Critical Value (10%)            -2.571530\n",
      "dtype: float64\n"
     ]
    }
   ],
   "source": [
    "# Primero dropeamos los na's\n",
    "ligae = ligae.dropna()\n",
    "\n",
    "# Creamos una función para generar los outputs\n",
    "def adf_test(timeseries):\n",
    "    print(\"Results of Dickey-Fuller Test:\")\n",
    "    dftest = adfuller(timeseries, autolag=\"AIC\")\n",
    "    dfoutput = pd.Series(\n",
    "        dftest[0:4],\n",
    "        index=[\n",
    "            \"Test Statistic\",\n",
    "            \"p-value\",\n",
    "            \"#Lags Used\",\n",
    "            \"Number of Observations Used\",\n",
    "        ],\n",
    "    )\n",
    "    for key, value in dftest[4].items():\n",
    "        dfoutput[\"Critical Value (%s)\" % key] = value\n",
    "    print(dfoutput)\n",
    "\n",
    "# Aplicamos la función para conocer la estacionalidad\n",
    "dftest = adf_test(ligae)\n",
    "dftest"
   ]
  },
  {
   "cell_type": "markdown",
   "metadata": {},
   "source": [
    "OBTUVIMOS UN VALOR DE NUESTRO P VALUE MENOR A 0.05, POR LO AHORA TENEMOS LA CERTEZA DE QUE ES UNA SERIE ESTACIONAL Y COMO TAL PODEMOS CALIBRARLA CON UN MODELO ARIMA-SARIMA."
   ]
  },
  {
   "cell_type": "markdown",
   "metadata": {},
   "source": [
    "## Calibra un modelo ARIMA-SARIMA basado en pruebas y gráficos de autocorrelaciones"
   ]
  },
  {
   "cell_type": "markdown",
   "metadata": {},
   "source": [
    "PRIMERO VAMOS A REALIZAR LOS GRÁFICOS DE AUTOCORRELACIONES ACF (AUTOCORRELATION FUNCTION) Y PACF (PARTIAL AUTOCORRELATION FUNCTION) PARA IDENTIFICAR LA RELACIÓN TEMPORAL ENTRE LOS DATOS, Y DE LOS MODELOS AR Y MA QUE SE PUEDEN AGREGAR EN NUESTRO MODELO ARIMA-SARIMA.\n",
    "\n",
    "CON LO ANTERIOR OBTENEMOS QUE:\n",
    "- D = 1, PORQUE TRABAJAMOS UNA SERIE ESTACIONAL.\n",
    "- d = 0, PORQUE VAMOS A CALCULAR EL ANNUAL % CHANGE MONTHLY."
   ]
  },
  {
   "cell_type": "code",
   "execution_count": 7,
   "metadata": {},
   "outputs": [
    {
     "data": {
      "image/png": "[encoded data removed]",
      "text/plain": [
       "<Figure size 432x288 with 1 Axes>"
      ]
     },
     "metadata": {
      "needs_background": "light"
     },
     "output_type": "display_data"
    }
   ],
   "source": [
    "plot_acf(ligae, lags=12);"
   ]
  },
  {
   "cell_type": "markdown",
   "metadata": {},
   "source": [
    "EN NUESTRO GRÁFICO DE AUTOCORRELACIÓN PODEMOS VER QUE LOS LAGS HASTA EL 6 TIENEN UNA SIGNIFICANCIA POSITVA MAYOR AL 95%."
   ]
  },
  {
   "cell_type": "code",
   "execution_count": 8,
   "metadata": {},
   "outputs": [
    {
     "data": {
      "image/png": "[encoded data removed]",
      "text/plain": [
       "<Figure size 432x288 with 1 Axes>"
      ]
     },
     "metadata": {
      "needs_background": "light"
     },
     "output_type": "display_data"
    }
   ],
   "source": [
    "plot_pacf(ligae, lags=12);"
   ]
  },
  {
   "cell_type": "markdown",
   "metadata": {},
   "source": [
    "EN ESTE GRÁFICO DE AUTOCORRELACIÓN PARCIAL PODEMOS DARNOS CUENTA QUE ÚNICAMENTE EL LAG 1, TIENE UNA AUTOCORRELACIÓN SIGNIFICATIVA.\n",
    "\n",
    "CON LA INTERPRETACIÓN DE LA GRÁFICAS ACF Y PACF, PODEMOS DETERMINAR QUE EL VALOR QUE VAMOS A ASIGNAR A p (CUANTAS Y VAN A ESTAR EN EL MODELO) Y q (CUANTOS DATOS RANDOM INCONTROLABLES HABRÁ):\n",
    "- p = 1, PORQUE ENCONTRAMOS QUE SOLO HAY SIGNIFICANCIA ENTRE UN MES CON RESPECTO AL SIGUIENTE.\n",
    "- q = 0, PORQUE VAMOS A ASUMIR QUE NO EXISTEN."
   ]
  },
  {
   "cell_type": "markdown",
   "metadata": {},
   "source": [
    "A CONTINUACIÓN VAMOS A ESTIMAR Y CALIBRAR EL MODELO ARIMA-SARIMA, CON LA INFORMACIÓN OBTENIDA DEL ANÁLISIS DE NUESTROS GRÁFICOS DE AUTOCORRELACIÓN."
   ]
  },
  {
   "cell_type": "code",
   "execution_count": 9,
   "metadata": {},
   "outputs": [
    {
     "data": {
      "text/html": [
       "<table class=\"simpletable\">\n",
       "<caption>SARIMAX Results</caption>\n",
       "<tr>\n",
       "  <th>Dep. Variable:</th>             <td>DS12.Valor</td>           <th>  No. Observations:  </th>    <td>343</td>   \n",
       "</tr>\n",
       "<tr>\n",
       "  <th>Model:</th>           <td>SARIMAX(1, 0, 0)x(0, 0, 0, 12)</td> <th>  Log Likelihood     </th>  <td>741.706</td> \n",
       "</tr>\n",
       "<tr>\n",
       "  <th>Date:</th>                   <td>Sun, 23 Oct 2022</td>        <th>  AIC                </th> <td>-1477.413</td>\n",
       "</tr>\n",
       "<tr>\n",
       "  <th>Time:</th>                       <td>15:07:53</td>            <th>  BIC                </th> <td>-1465.899</td>\n",
       "</tr>\n",
       "<tr>\n",
       "  <th>Sample:</th>                         <td>0</td>               <th>  HQIC               </th> <td>-1472.827</td>\n",
       "</tr>\n",
       "<tr>\n",
       "  <th></th>                             <td> - 343</td>             <th>                     </th>     <td> </td>    \n",
       "</tr>\n",
       "<tr>\n",
       "  <th>Covariance Type:</th>               <td>opg</td>              <th>                     </th>     <td> </td>    \n",
       "</tr>\n",
       "</table>\n",
       "<table class=\"simpletable\">\n",
       "<tr>\n",
       "      <td></td>         <th>coef</th>     <th>std err</th>      <th>z</th>      <th>P>|z|</th>  <th>[0.025</th>    <th>0.975]</th>  \n",
       "</tr>\n",
       "<tr>\n",
       "  <th>intercept</th> <td>    0.0041</td> <td>    0.002</td> <td>    2.741</td> <td> 0.006</td> <td>    0.001</td> <td>    0.007</td>\n",
       "</tr>\n",
       "<tr>\n",
       "  <th>ar.L1</th>     <td>    0.7905</td> <td>    0.021</td> <td>   36.847</td> <td> 0.000</td> <td>    0.748</td> <td>    0.833</td>\n",
       "</tr>\n",
       "<tr>\n",
       "  <th>sigma2</th>    <td>    0.0008</td> <td> 2.09e-05</td> <td>   36.988</td> <td> 0.000</td> <td>    0.001</td> <td>    0.001</td>\n",
       "</tr>\n",
       "</table>\n",
       "<table class=\"simpletable\">\n",
       "<tr>\n",
       "  <th>Ljung-Box (L1) (Q):</th>     <td>0.42</td> <th>  Jarque-Bera (JB):  </th> <td>3075.60</td>\n",
       "</tr>\n",
       "<tr>\n",
       "  <th>Prob(Q):</th>                <td>0.52</td> <th>  Prob(JB):          </th>  <td>0.00</td>  \n",
       "</tr>\n",
       "<tr>\n",
       "  <th>Heteroskedasticity (H):</th> <td>2.24</td> <th>  Skew:              </th>  <td>-0.44</td> \n",
       "</tr>\n",
       "<tr>\n",
       "  <th>Prob(H) (two-sided):</th>    <td>0.00</td> <th>  Kurtosis:          </th>  <td>17.64</td> \n",
       "</tr>\n",
       "</table><br/><br/>Warnings:<br/>[1] Covariance matrix calculated using the outer product of gradients (complex-step)."
      ],
      "text/plain": [
       "<class 'statsmodels.iolib.summary.Summary'>\n",
       "\"\"\"\n",
       "                                     SARIMAX Results                                      \n",
       "==========================================================================================\n",
       "Dep. Variable:                         DS12.Valor   No. Observations:                  343\n",
       "Model:             SARIMAX(1, 0, 0)x(0, 0, 0, 12)   Log Likelihood                 741.706\n",
       "Date:                            Sun, 23 Oct 2022   AIC                          -1477.413\n",
       "Time:                                    15:07:53   BIC                          -1465.899\n",
       "Sample:                                         0   HQIC                         -1472.827\n",
       "                                            - 343                                         \n",
       "Covariance Type:                              opg                                         \n",
       "==============================================================================\n",
       "                 coef    std err          z      P>|z|      [0.025      0.975]\n",
       "------------------------------------------------------------------------------\n",
       "intercept      0.0041      0.002      2.741      0.006       0.001       0.007\n",
       "ar.L1          0.7905      0.021     36.847      0.000       0.748       0.833\n",
       "sigma2         0.0008   2.09e-05     36.988      0.000       0.001       0.001\n",
       "===================================================================================\n",
       "Ljung-Box (L1) (Q):                   0.42   Jarque-Bera (JB):              3075.60\n",
       "Prob(Q):                              0.52   Prob(JB):                         0.00\n",
       "Heteroskedasticity (H):               2.24   Skew:                            -0.44\n",
       "Prob(H) (two-sided):                  0.00   Kurtosis:                        17.64\n",
       "===================================================================================\n",
       "\n",
       "Warnings:\n",
       "[1] Covariance matrix calculated using the outer product of gradients (complex-step).\n",
       "\"\"\""
      ]
     },
     "execution_count": 9,
     "metadata": {},
     "output_type": "execute_result"
    }
   ],
   "source": [
    "# Parameters Arima(p,d,q)\n",
    "p, d, q = 1, 0, 0\n",
    "\n",
    "# Parameters Sarima(P,D,Q,#periods in the year)\n",
    "P, D, Q = 0, 1, 0\n",
    "periods = 12\n",
    "\n",
    "y = np.log(igae['Valor'])\n",
    "mod = sm.tsa.statespace.SARIMAX(y,\n",
    "                               order=(p,d,q),\n",
    "                               seasonal_order=(P,D,Q,periods),\n",
    "                               trend='c',\n",
    "                               simple_differencing=True\n",
    "                               )\n",
    "res = mod.fit()\n",
    "res.summary()"
   ]
  },
  {
   "cell_type": "markdown",
   "metadata": {},
   "source": [
    "## Interpretación de coeficientes y su significancia estadística del modelo calibrado"
   ]
  },
  {
   "cell_type": "markdown",
   "metadata": {},
   "source": [
    "CON LA INFORMACIÓN QUE OBTENEMOS TRAS APLICAR EL MODELO, PODEMOS DECIR QUE EL ÍNDICE GLOBAL DE ACTIVIDAD ECONÓMICA DE MÉXICO ES POSITIVA Y SIGNIFICATIVA CON LA DEL MES ANTERIOR, TENIENDO UN 79%.\n",
    "\n",
    "EL MODELO REPRESENTADO MATEMÁTICAMENTE NOS DA:<br>\n",
    "$$ y_{t} = 0.0041 + 0.7905*y_{t-1} $$\n",
    "\n",
    "AHORA VAMOS A VER COMO SE COMPORTAN LOS RESIDUOS DE NUESTROS DATOS CON GRÁFICOS DE CORRELACIÓN, PARA COMPROBAR SI LA SERIE DE RESIDUOS ES UN RUIDO BLANCO (UNA SERIE QUE NO TIENE AUTOCORRELACIONES SIGNIFICATIVAS CON NINGÚN RETRAZO ANTERIOR)."
   ]
  },
  {
   "cell_type": "code",
   "execution_count": 14,
   "metadata": {},
   "outputs": [
    {
     "data": {
      "image/png": "[encoded data removed]",
      "text/plain": [
       "<Figure size 432x288 with 1 Axes>"
      ]
     },
     "metadata": {
      "needs_background": "light"
     },
     "output_type": "display_data"
    }
   ],
   "source": [
    "plot_acf(res.resid, lags=12);"
   ]
  },
  {
   "cell_type": "code",
   "execution_count": 13,
   "metadata": {},
   "outputs": [
    {
     "data": {
      "image/png": "[encoded data removed]",
      "text/plain": [
       "<Figure size 432x288 with 1 Axes>"
      ]
     },
     "metadata": {
      "needs_background": "light"
     },
     "output_type": "display_data"
    }
   ],
   "source": [
    "plot_pacf(res.resid, lags=12);"
   ]
  },
  {
   "cell_type": "markdown",
   "metadata": {},
   "source": []
  },
  {
   "cell_type": "markdown",
   "metadata": {},
   "source": [
    "CON LOS ANTERIOR EN MENTE, VAMOS A MEJORAR EL MODELO."
   ]
  },
  {
   "cell_type": "code",
   "execution_count": 19,
   "metadata": {},
   "outputs": [
    {
     "data": {
      "text/html": [
       "<table class=\"simpletable\">\n",
       "<caption>SARIMAX Results</caption>\n",
       "<tr>\n",
       "  <th>Dep. Variable:</th>              <td>DS12.Valor</td>            <th>  No. Observations:  </th>    <td>343</td>   \n",
       "</tr>\n",
       "<tr>\n",
       "  <th>Model:</th>           <td>SARIMAX(1, 0, 0)x(0, 0, [1], 12)</td> <th>  Log Likelihood     </th>  <td>805.821</td> \n",
       "</tr>\n",
       "<tr>\n",
       "  <th>Date:</th>                    <td>Sun, 23 Oct 2022</td>         <th>  AIC                </th> <td>-1603.642</td>\n",
       "</tr>\n",
       "<tr>\n",
       "  <th>Time:</th>                        <td>16:18:29</td>             <th>  BIC                </th> <td>-1588.291</td>\n",
       "</tr>\n",
       "<tr>\n",
       "  <th>Sample:</th>                          <td>0</td>                <th>  HQIC               </th> <td>-1597.528</td>\n",
       "</tr>\n",
       "<tr>\n",
       "  <th></th>                              <td> - 343</td>              <th>                     </th>     <td> </td>    \n",
       "</tr>\n",
       "<tr>\n",
       "  <th>Covariance Type:</th>                <td>opg</td>               <th>                     </th>     <td> </td>    \n",
       "</tr>\n",
       "</table>\n",
       "<table class=\"simpletable\">\n",
       "<tr>\n",
       "      <td></td>         <th>coef</th>     <th>std err</th>      <th>z</th>      <th>P>|z|</th>  <th>[0.025</th>    <th>0.975]</th>  \n",
       "</tr>\n",
       "<tr>\n",
       "  <th>intercept</th> <td>    0.0025</td> <td>    0.000</td> <td>    6.274</td> <td> 0.000</td> <td>    0.002</td> <td>    0.003</td>\n",
       "</tr>\n",
       "<tr>\n",
       "  <th>ar.L1</th>     <td>    0.8793</td> <td>    0.019</td> <td>   46.540</td> <td> 0.000</td> <td>    0.842</td> <td>    0.916</td>\n",
       "</tr>\n",
       "<tr>\n",
       "  <th>ma.S.L12</th>  <td>   -0.8405</td> <td>    0.047</td> <td>  -17.882</td> <td> 0.000</td> <td>   -0.933</td> <td>   -0.748</td>\n",
       "</tr>\n",
       "<tr>\n",
       "  <th>sigma2</th>    <td>    0.0005</td> <td> 1.33e-05</td> <td>   38.347</td> <td> 0.000</td> <td>    0.000</td> <td>    0.001</td>\n",
       "</tr>\n",
       "</table>\n",
       "<table class=\"simpletable\">\n",
       "<tr>\n",
       "  <th>Ljung-Box (L1) (Q):</th>     <td>4.60</td> <th>  Jarque-Bera (JB):  </th> <td>7790.42</td>\n",
       "</tr>\n",
       "<tr>\n",
       "  <th>Prob(Q):</th>                <td>0.03</td> <th>  Prob(JB):          </th>  <td>0.00</td>  \n",
       "</tr>\n",
       "<tr>\n",
       "  <th>Heteroskedasticity (H):</th> <td>2.08</td> <th>  Skew:              </th>  <td>-2.30</td> \n",
       "</tr>\n",
       "<tr>\n",
       "  <th>Prob(H) (two-sided):</th>    <td>0.00</td> <th>  Kurtosis:          </th>  <td>25.89</td> \n",
       "</tr>\n",
       "</table><br/><br/>Warnings:<br/>[1] Covariance matrix calculated using the outer product of gradients (complex-step)."
      ],
      "text/plain": [
       "<class 'statsmodels.iolib.summary.Summary'>\n",
       "\"\"\"\n",
       "                                      SARIMAX Results                                       \n",
       "============================================================================================\n",
       "Dep. Variable:                           DS12.Valor   No. Observations:                  343\n",
       "Model:             SARIMAX(1, 0, 0)x(0, 0, [1], 12)   Log Likelihood                 805.821\n",
       "Date:                              Sun, 23 Oct 2022   AIC                          -1603.642\n",
       "Time:                                      16:18:29   BIC                          -1588.291\n",
       "Sample:                                           0   HQIC                         -1597.528\n",
       "                                              - 343                                         \n",
       "Covariance Type:                                opg                                         \n",
       "==============================================================================\n",
       "                 coef    std err          z      P>|z|      [0.025      0.975]\n",
       "------------------------------------------------------------------------------\n",
       "intercept      0.0025      0.000      6.274      0.000       0.002       0.003\n",
       "ar.L1          0.8793      0.019     46.540      0.000       0.842       0.916\n",
       "ma.S.L12      -0.8405      0.047    -17.882      0.000      -0.933      -0.748\n",
       "sigma2         0.0005   1.33e-05     38.347      0.000       0.000       0.001\n",
       "===================================================================================\n",
       "Ljung-Box (L1) (Q):                   4.60   Jarque-Bera (JB):              7790.42\n",
       "Prob(Q):                              0.03   Prob(JB):                         0.00\n",
       "Heteroskedasticity (H):               2.08   Skew:                            -2.30\n",
       "Prob(H) (two-sided):                  0.00   Kurtosis:                        25.89\n",
       "===================================================================================\n",
       "\n",
       "Warnings:\n",
       "[1] Covariance matrix calculated using the outer product of gradients (complex-step).\n",
       "\"\"\""
      ]
     },
     "execution_count": 19,
     "metadata": {},
     "output_type": "execute_result"
    }
   ],
   "source": [
    "# Parameters Arima(p,d,q)\n",
    "p, d, q = 1, 0, 0\n",
    "\n",
    "# Parameters Sarima(P,D,Q,#periods in the year)\n",
    "P, D, Q = 0, 1, 1\n",
    "periods = 12\n",
    "\n",
    "y = np.log(igae['Valor'])\n",
    "mod2 = sm.tsa.statespace.SARIMAX(y,\n",
    "                               order=(p,d,q),\n",
    "                               seasonal_order=(P,D,Q,periods),\n",
    "                               trend='c',\n",
    "                               simple_differencing=True\n",
    "                               )\n",
    "res2 = mod2.fit()\n",
    "res2.summary()"
   ]
  },
  {
   "cell_type": "markdown",
   "metadata": {},
   "source": []
  },
  {
   "cell_type": "code",
   "execution_count": 23,
   "metadata": {},
   "outputs": [
    {
     "data": {
      "image/png": "[encoded data removed]",
      "text/plain": [
       "<Figure size 432x288 with 1 Axes>"
      ]
     },
     "metadata": {
      "needs_background": "light"
     },
     "output_type": "display_data"
    }
   ],
   "source": [
    "plot_acf(res2.resid, lags = 12);"
   ]
  },
  {
   "cell_type": "code",
   "execution_count": 24,
   "metadata": {},
   "outputs": [
    {
     "data": {
      "image/png": "[encoded data removed]",
      "text/plain": [
       "<Figure size 432x288 with 1 Axes>"
      ]
     },
     "metadata": {
      "needs_background": "light"
     },
     "output_type": "display_data"
    }
   ],
   "source": [
    "plot_pacf(res2.resid, lags = 12);"
   ]
  },
  {
   "cell_type": "markdown",
   "metadata": {},
   "source": []
  },
  {
   "cell_type": "markdown",
   "metadata": {},
   "source": [
    "## Predicción de la variable con el modelo calibrado"
   ]
  },
  {
   "cell_type": "code",
   "execution_count": null,
   "metadata": {},
   "outputs": [],
   "source": []
  },
  {
   "cell_type": "code",
   "execution_count": null,
   "metadata": {},
   "outputs": [],
   "source": []
  }
 ],
 "metadata": {
  "kernelspec": {
   "display_name": "Python 3",
   "language": "python",
   "name": "python3"
  },
  "language_info": {
   "codemirror_mode": {
    "name": "ipython",
    "version": 3
   },
   "file_extension": ".py",
   "mimetype": "text/x-python",
   "name": "python",
   "nbconvert_exporter": "python",
   "pygments_lexer": "ipython3",
   "version": "3.9.12"
  },
  "vscode": {
   "interpreter": {
    "hash": "e0097eb9e75fd1fba237717d3fa82328c135583c8e3c8e971996dd6e8be60a1e"
   }
  }
 },
 "nbformat": 4,
 "nbformat_minor": 2
}
